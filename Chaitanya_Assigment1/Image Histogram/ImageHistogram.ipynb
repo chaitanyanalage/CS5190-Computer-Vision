{
 "cells": [
  {
   "cell_type": "code",
   "execution_count": null,
   "metadata": {},
   "outputs": [
    {
     "name": "stderr",
     "output_type": "stream",
     "text": [
      "2024-03-08 17:18:46.708 Python[67592:4223380] WARNING: Secure coding is not enabled for restorable state! Enable secure coding by implementing NSApplicationDelegate.applicationSupportsSecureRestorableState: and returning YES.\n"
     ]
    }
   ],
   "source": [
    "#Assignment 1\n",
    "#Image Histogram\n",
    "\n",
    "import numpy as np\n",
    "import cv2\n",
    "\n",
    "def histogram_equalization(image):\n",
    "    #calculating histogram\n",
    "    hist, bins = np.histogram(image.flatten(), 256, [0, 256])\n",
    "    \n",
    "    #calculating cumulative distribution function\n",
    "    cdf = hist.cumsum()\n",
    "    cdf_normalized = cdf * hist.max() / cdf.max()\n",
    "    \n",
    "    #performing histogram equalization\n",
    "    equalized_image = np.interp(image.flatten(), bins[:-1], cdf_normalized)\n",
    "    equalized_image = equalized_image.reshape(image.shape)\n",
    "    \n",
    "    #normalizing the image\n",
    "    equalized_image = (equalized_image - equalized_image.min()) * 255 / (equalized_image.max() - equalized_image.min())\n",
    "    equalized_image = equalized_image.astype(np.uint8)\n",
    "    \n",
    "    return equalized_image\n",
    "\n",
    "#loading an image as grayscale\n",
    "image = cv2.imread('a.jpg', 0)\n",
    "\n",
    "#performing histogram equalization using the custom function\n",
    "equalized_image_custom = histogram_equalization(image)\n",
    "\n",
    "#performing histogram equalization using OpenCV function\n",
    "equalized_image_opencv = cv2.equalizeHist(image)\n",
    "\n",
    "#display the original image, custom function equalized image and OpenCV function equalized image\n",
    "cv2.imshow('Original image', image)\n",
    "cv2.imshow('Custom equalized image', equalized_image_custom)\n",
    "cv2.imshow('OpenCV equalized image', equalized_image_opencv)\n",
    "cv2.waitKey(0)\n",
    "cv2.destroyAllWindows()\n"
   ]
  },
  {
   "cell_type": "code",
   "execution_count": null,
   "metadata": {},
   "outputs": [],
   "source": []
  }
 ],
 "metadata": {
  "kernelspec": {
   "display_name": "Python 3 (ipykernel)",
   "language": "python",
   "name": "python3"
  },
  "language_info": {
   "codemirror_mode": {
    "name": "ipython",
    "version": 3
   },
   "file_extension": ".py",
   "mimetype": "text/x-python",
   "name": "python",
   "nbconvert_exporter": "python",
   "pygments_lexer": "ipython3",
   "version": "3.12.1"
  }
 },
 "nbformat": 4,
 "nbformat_minor": 4
}
