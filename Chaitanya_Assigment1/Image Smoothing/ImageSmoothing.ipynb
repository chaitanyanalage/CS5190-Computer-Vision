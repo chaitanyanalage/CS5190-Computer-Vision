{
 "cells": [
  {
   "cell_type": "code",
   "execution_count": null,
   "id": "c282f93c-1097-4781-b60d-35afe49ec624",
   "metadata": {},
   "outputs": [
    {
     "name": "stderr",
     "output_type": "stream",
     "text": [
      "2024-03-11 21:20:24.267 Python[43433:5942773] WARNING: Secure coding is not enabled for restorable state! Enable secure coding by implementing NSApplicationDelegate.applicationSupportsSecureRestorableState: and returning YES.\n"
     ]
    }
   ],
   "source": [
    "#Assignment 1\n",
    "#Image Smoothing\n",
    "\n",
    "import numpy as np\n",
    "import cv2\n",
    "\n",
    "def gaussian_kernel_1d(size, sigma):\n",
    "    kernel = np.fromfunction(lambda x: (1/(np.sqrt(2*np.pi)*sigma)) * np.exp(-(x - size//2)**2 / (2*sigma**2)), (size,))\n",
    "    return kernel / np.sum(kernel)\n",
    "\n",
    "def gaussian_smoothing(image, size, sigma):\n",
    "    #converting image to float32 for convolution\n",
    "    image = image.astype(np.float32)\n",
    "    \n",
    "    #generating 1D gaussian kernel\n",
    "    kernel_1d = gaussian_kernel_1d(size, sigma)\n",
    "    \n",
    "    #applying 1D convolution along rows\n",
    "    smoothed_image = np.zeros_like(image)\n",
    "    for i in range(image.shape[0]):\n",
    "        smoothed_image[i, :] = np.convolve(image[i, :], kernel_1d, mode='same')\n",
    "    \n",
    "    #applying 1D convolution along columns\n",
    "    for j in range(image.shape[1]):\n",
    "        smoothed_image[:, j] = np.convolve(smoothed_image[:, j], kernel_1d, mode='same')\n",
    "    \n",
    "    return smoothed_image.astype(np.uint8)\n",
    "\n",
    "#loading an image as color\n",
    "image = cv2.imread('a.jpg')\n",
    "\n",
    "#checking if the image is loaded successfully\n",
    "if image is None:\n",
    "    print(\"Error: Unable to load image\")\n",
    "else:\n",
    "    #converting image to grayscale\n",
    "    image_gray = cv2.cvtColor(image, cv2.COLOR_BGR2GRAY)\n",
    "\n",
    "    #performing gaussian smoothing using the custom function\n",
    "    smoothed_image_custom = gaussian_smoothing(image_gray, size=5, sigma=1.5)\n",
    "\n",
    "    #performing gaussian smoothing using OpenCV function\n",
    "    smoothed_image_opencv = cv2.GaussianBlur(image_gray, (5, 5), sigmaX=1.5)\n",
    "\n",
    "    #displaying the original and smoothed images\n",
    "    cv2.imshow('Original image', image_gray)\n",
    "    cv2.imshow('Custom smoothed image', smoothed_image_custom)\n",
    "    cv2.imshow('OpenCV smoothed image', smoothed_image_opencv)\n",
    "    cv2.waitKey(0)\n",
    "    cv2.destroyAllWindows()\n"
   ]
  },
  {
   "cell_type": "code",
   "execution_count": null,
   "id": "e1cd22ad-7cef-47a3-b406-5c6d94f4a2b0",
   "metadata": {},
   "outputs": [],
   "source": []
  }
 ],
 "metadata": {
  "kernelspec": {
   "display_name": "Python 3 (ipykernel)",
   "language": "python",
   "name": "python3"
  },
  "language_info": {
   "codemirror_mode": {
    "name": "ipython",
    "version": 3
   },
   "file_extension": ".py",
   "mimetype": "text/x-python",
   "name": "python",
   "nbconvert_exporter": "python",
   "pygments_lexer": "ipython3",
   "version": "3.12.1"
  }
 },
 "nbformat": 4,
 "nbformat_minor": 5
}
